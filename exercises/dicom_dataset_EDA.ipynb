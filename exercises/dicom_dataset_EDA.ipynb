{
 "cells": [
  {
   "cell_type": "markdown",
   "id": "6b85daf5",
   "metadata": {},
   "source": [
    "# DICOM Dataset EDA"
   ]
  },
  {
   "cell_type": "code",
   "execution_count": 1,
   "id": "d76d95c5",
   "metadata": {},
   "outputs": [],
   "source": [
    "import pydicom\n",
    "import matplotlib.pyplot as plt\n",
    "import matplotlib.cm as cm\n",
    "import numpy as np\n",
    "import numpy.ma as ma\n",
    "import os"
   ]
  },
  {
   "cell_type": "markdown",
   "id": "2ccf3c66",
   "metadata": {},
   "source": [
    "### Load metadata without loading pixel_arrays"
   ]
  },
  {
   "cell_type": "code",
   "execution_count": null,
   "id": "52d3cba0",
   "metadata": {},
   "outputs": [],
   "source": [
    "dcm_path = 'dcm_dir'\n",
    "\n",
    "# series.shape = ()\n",
    "series = np.array([[(os.path.join(dp, f), pydicom.dcmread(os.path.join(dp, f), stop_before_pixel=True)) for f in files]\n",
    "                  for dp, _, files in os.walk(dcm_path) if len(files) != 0])"
   ]
  },
  {
   "cell_type": "markdown",
   "id": "f45c33ae",
   "metadata": {},
   "source": [
    "### Count instances (number of total files)"
   ]
  },
  {
   "cell_type": "code",
   "execution_count": null,
   "id": "b8c8139f",
   "metadata": {},
   "outputs": [],
   "source": [
    "instances = [f for x in series for f in x]\n",
    "print(len(instances))"
   ]
  },
  {
   "cell_type": "markdown",
   "id": "d4541de5",
   "metadata": {},
   "source": [
    "### Count patients"
   ]
  },
  {
   "cell_type": "code",
   "execution_count": null,
   "id": "9e1dedea",
   "metadata": {},
   "outputs": [],
   "source": [
    "patient_ids = np.unique([x[1].PatientID for x in instances])\n",
    "print(len(patient_ids))"
   ]
  },
  {
   "cell_type": "markdown",
   "id": "be76f488",
   "metadata": {},
   "source": [
    "### Count series"
   ]
  },
  {
   "cell_type": "code",
   "execution_count": null,
   "id": "a5a162ce",
   "metadata": {},
   "outputs": [],
   "source": [
    "print(len(series))"
   ]
  },
  {
   "cell_type": "markdown",
   "id": "d6505705",
   "metadata": {},
   "source": [
    " ### Count studies"
   ]
  },
  {
   "cell_type": "code",
   "execution_count": null,
   "id": "7ff1ea29",
   "metadata": {},
   "outputs": [],
   "source": [
    "studies = {}\n",
    "\n",
    "for s in series:\n",
    "    studies.setdefault(s[0][1].StudyInstanceUID, []).append(s)\n",
    "\n",
    "print(len(studies))"
   ]
  },
  {
   "cell_type": "markdown",
   "id": "eea6cfa1",
   "metadata": {},
   "source": [
    "### "
   ]
  }
 ],
 "metadata": {
  "kernelspec": {
   "display_name": "AI-health",
   "language": "python",
   "name": "ai-health"
  },
  "language_info": {
   "codemirror_mode": {
    "name": "ipython",
    "version": 3
   },
   "file_extension": ".py",
   "mimetype": "text/x-python",
   "name": "python",
   "nbconvert_exporter": "python",
   "pygments_lexer": "ipython3",
   "version": "3.9.6"
  }
 },
 "nbformat": 4,
 "nbformat_minor": 5
}
